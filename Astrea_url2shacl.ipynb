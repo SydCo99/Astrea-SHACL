{
 "cells": [
  {
   "cell_type": "markdown",
   "id": "8670f730-3aad-4f49-b810-9d19347f4700",
   "metadata": {},
   "source": [
    "Import dependencies"
   ]
  },
  {
   "cell_type": "code",
   "execution_count": 1,
   "id": "2b07e990-f558-4d9d-8de3-6e2c0bed5656",
   "metadata": {},
   "outputs": [],
   "source": [
    "import requests\n",
    "from pyshacl import validate\n",
    "from rdflib import Graph, Literal, RDF, URIRef"
   ]
  },
  {
   "cell_type": "markdown",
   "id": "56ab43e6-c291-4cdc-a660-016253793998",
   "metadata": {},
   "source": [
    "Specifiy the url of your ontology of interest "
   ]
  },
  {
   "cell_type": "code",
   "execution_count": 2,
   "id": "b93d7089-650d-4e68-a5a0-a9084225cf6a",
   "metadata": {},
   "outputs": [],
   "source": [
    "ont_url = \"http://purl.obolibrary.org/obo/bfo.owl\""
   ]
  },
  {
   "cell_type": "code",
   "execution_count": 3,
   "id": "cc3807d8-1463-4417-9860-8ed8cec5e570",
   "metadata": {},
   "outputs": [],
   "source": [
    "ontologyURLs = {\"accept\": \"text/rdf+turtle\", \"Content-Type\": \"application/json;charset=utf-8\",\n",
    "  \"ontologies\":\n",
    "    [ont_url],\n",
    "}"
   ]
  },
  {
   "cell_type": "markdown",
   "id": "b23036b5-f1e4-4f05-8803-1e5839929adf",
   "metadata": {},
   "source": [
    "Check to make sure syntax of the query is correct"
   ]
  },
  {
   "cell_type": "code",
   "execution_count": 4,
   "id": "924e1273-366e-45a1-9b81-72980d946f48",
   "metadata": {},
   "outputs": [
    {
     "data": {
      "text/plain": [
       "{'accept': 'text/rdf+turtle',\n",
       " 'Content-Type': 'application/json;charset=utf-8',\n",
       " 'ontologies': ['http://purl.obolibrary.org/obo/bfo.owl']}"
      ]
     },
     "execution_count": 4,
     "metadata": {},
     "output_type": "execute_result"
    }
   ],
   "source": [
    "ontologyURLs"
   ]
  },
  {
   "cell_type": "markdown",
   "id": "e14873dd-561a-4cb1-970a-39ef4f8f9b76",
   "metadata": {},
   "source": [
    "Identify the URL for our endpoint"
   ]
  },
  {
   "cell_type": "code",
   "execution_count": 5,
   "id": "dbded599-3b1e-40b8-ae20-0c4c38801af8",
   "metadata": {},
   "outputs": [],
   "source": [
    "url = ('https://astrea.linkeddata.es/api/shacl/url')"
   ]
  },
  {
   "cell_type": "markdown",
   "id": "83cc3126-6ff5-42d5-8af1-7ba93696aecc",
   "metadata": {},
   "source": [
    "Send in our post request"
   ]
  },
  {
   "cell_type": "code",
   "execution_count": 6,
   "id": "1cd5527f-804e-4f24-b2c6-6897d43eefbf",
   "metadata": {},
   "outputs": [],
   "source": [
    "response = requests.post(url = url, json = ontologyURLs)"
   ]
  },
  {
   "cell_type": "markdown",
   "id": "26d17cf3-e313-4fdd-a5ea-98f6b6d8ef5b",
   "metadata": {},
   "source": [
    "Save the text of the response to a variable"
   ]
  },
  {
   "cell_type": "code",
   "execution_count": 7,
   "id": "087674ee-98f4-48a1-8cd9-027b84547bf6",
   "metadata": {
    "scrolled": true,
    "tags": []
   },
   "outputs": [],
   "source": [
    "x = response.text"
   ]
  },
  {
   "cell_type": "markdown",
   "id": "48d2c27b-82e1-40df-b3d1-c139cd29cb58",
   "metadata": {},
   "source": [
    "Write the text of the response to a new file -- edit the file name (currently, 'shacl.ttl') if you'd like it to be called something else "
   ]
  },
  {
   "cell_type": "code",
   "execution_count": 8,
   "id": "f4120354-0327-43a3-af1d-abaf4fd2a083",
   "metadata": {},
   "outputs": [],
   "source": [
    "with open('shacl.ttl', 'w') as f:\n",
    "    f.write(x)"
   ]
  },
  {
   "cell_type": "markdown",
   "id": "40030331-83f9-4f0d-826f-dea60ac53d94",
   "metadata": {},
   "source": [
    "Now we will validate - start by initializing an rdflib graph object"
   ]
  },
  {
   "cell_type": "code",
   "execution_count": 9,
   "id": "4f5355db-9e5b-45d2-b278-9f8dc1440e6c",
   "metadata": {},
   "outputs": [],
   "source": [
    "g = Graph()"
   ]
  },
  {
   "cell_type": "markdown",
   "id": "88a95f9f-f278-4d64-801f-a7d683153717",
   "metadata": {},
   "source": [
    "We will put the original ontology into the graph object (stored as data_graph variable) by using the rdflib parse function \n",
    "\n",
    "create instance data john is a material entity and a process "
   ]
  },
  {
   "cell_type": "code",
   "execution_count": 12,
   "id": "e0710336-4f82-439b-8f3f-f7e910079999",
   "metadata": {},
   "outputs": [],
   "source": [
    "data_graph = g.parse(\"drone_demo_syd.ttl\", format='turtle')"
   ]
  },
  {
   "cell_type": "markdown",
   "id": "45a41a01-9a56-4c2a-adda-3af0cd95c27f",
   "metadata": {},
   "source": [
    "Our newly generated shacl file will be assigned to the \"sg\" variable -- if you called the file something else, change the name in the quotes below to match your shacl file name"
   ]
  },
  {
   "cell_type": "code",
   "execution_count": 13,
   "id": "4d6f2e0a-2573-4c0c-91d7-0c91045ceb33",
   "metadata": {},
   "outputs": [],
   "source": [
    "sg = \"shacl.ttl\""
   ]
  },
  {
   "cell_type": "markdown",
   "id": "beab2185-50d7-4ac7-9882-c60b3aa3dbe4",
   "metadata": {},
   "source": [
    "Run the pyshacl validate function"
   ]
  },
  {
   "cell_type": "code",
   "execution_count": 14,
   "id": "8566dbdb-cdf0-4728-abb4-ccdfa52d6a29",
   "metadata": {},
   "outputs": [
    {
     "ename": "ShapeLoadError",
     "evalue": "A shape defined as a PropertyShape must be the subject of a 'sh:path' predicate.\nFor reference, see https://www.w3.org/TR/shacl/#property-shapes",
     "output_type": "error",
     "traceback": [
      "\u001b[1;31m---------------------------------------------------------------------------\u001b[0m",
      "\u001b[1;31mShapeLoadError\u001b[0m                            Traceback (most recent call last)",
      "\u001b[1;32m~\\AppData\\Local\\Temp/ipykernel_31660/3065837782.py\u001b[0m in \u001b[0;36m<module>\u001b[1;34m\u001b[0m\n\u001b[1;32m----> 1\u001b[1;33m r = validate(data_graph = data_graph,\n\u001b[0m\u001b[0;32m      2\u001b[0m       \u001b[0mshacl_graph\u001b[0m\u001b[1;33m=\u001b[0m\u001b[0msg\u001b[0m\u001b[1;33m,\u001b[0m\u001b[1;33m\u001b[0m\u001b[1;33m\u001b[0m\u001b[0m\n\u001b[0;32m      3\u001b[0m       \u001b[0minference\u001b[0m\u001b[1;33m=\u001b[0m\u001b[1;34m'rdfs'\u001b[0m\u001b[1;33m,\u001b[0m\u001b[1;33m\u001b[0m\u001b[1;33m\u001b[0m\u001b[0m\n\u001b[0;32m      4\u001b[0m       \u001b[0mabort_on_first\u001b[0m\u001b[1;33m=\u001b[0m\u001b[1;32mFalse\u001b[0m\u001b[1;33m,\u001b[0m\u001b[1;33m\u001b[0m\u001b[1;33m\u001b[0m\u001b[0m\n\u001b[0;32m      5\u001b[0m       \u001b[0mallow_infos\u001b[0m\u001b[1;33m=\u001b[0m\u001b[1;32mFalse\u001b[0m\u001b[1;33m,\u001b[0m\u001b[1;33m\u001b[0m\u001b[1;33m\u001b[0m\u001b[0m\n",
      "\u001b[1;32m~\\anaconda3\\lib\\site-packages\\pyshacl\\validate.py\u001b[0m in \u001b[0;36mvalidate\u001b[1;34m(data_graph, shacl_graph, ont_graph, advanced, inference, inplace, abort_on_first, allow_infos, allow_warnings, *args, **kwargs)\u001b[0m\n\u001b[0;32m    433\u001b[0m             },\n\u001b[0;32m    434\u001b[0m         )\n\u001b[1;32m--> 435\u001b[1;33m         \u001b[0mconforms\u001b[0m\u001b[1;33m,\u001b[0m \u001b[0mreport_graph\u001b[0m\u001b[1;33m,\u001b[0m \u001b[0mreport_text\u001b[0m \u001b[1;33m=\u001b[0m \u001b[0mvalidator\u001b[0m\u001b[1;33m.\u001b[0m\u001b[0mrun\u001b[0m\u001b[1;33m(\u001b[0m\u001b[1;33m)\u001b[0m\u001b[1;33m\u001b[0m\u001b[1;33m\u001b[0m\u001b[0m\n\u001b[0m\u001b[0;32m    436\u001b[0m     \u001b[1;32mexcept\u001b[0m \u001b[0mValidationFailure\u001b[0m \u001b[1;32mas\u001b[0m \u001b[0me\u001b[0m\u001b[1;33m:\u001b[0m\u001b[1;33m\u001b[0m\u001b[1;33m\u001b[0m\u001b[0m\n\u001b[0;32m    437\u001b[0m         \u001b[0mconforms\u001b[0m \u001b[1;33m=\u001b[0m \u001b[1;32mFalse\u001b[0m\u001b[1;33m\u001b[0m\u001b[1;33m\u001b[0m\u001b[0m\n",
      "\u001b[1;32m~\\anaconda3\\lib\\site-packages\\pyshacl\\validate.py\u001b[0m in \u001b[0;36mrun\u001b[1;34m(self)\u001b[0m\n\u001b[0;32m    229\u001b[0m             \u001b[0mself\u001b[0m\u001b[1;33m.\u001b[0m\u001b[0m_target_graph\u001b[0m \u001b[1;33m=\u001b[0m \u001b[0mthe_target_graph\u001b[0m\u001b[1;33m\u001b[0m\u001b[1;33m\u001b[0m\u001b[0m\n\u001b[0;32m    230\u001b[0m \u001b[1;33m\u001b[0m\u001b[0m\n\u001b[1;32m--> 231\u001b[1;33m         \u001b[0mshapes\u001b[0m \u001b[1;33m=\u001b[0m \u001b[0mself\u001b[0m\u001b[1;33m.\u001b[0m\u001b[0mshacl_graph\u001b[0m\u001b[1;33m.\u001b[0m\u001b[0mshapes\u001b[0m  \u001b[1;31m# This property getter triggers shapes harvest.\u001b[0m\u001b[1;33m\u001b[0m\u001b[1;33m\u001b[0m\u001b[0m\n\u001b[0m\u001b[0;32m    232\u001b[0m         \u001b[0miterate_rules\u001b[0m \u001b[1;33m=\u001b[0m \u001b[0mself\u001b[0m\u001b[1;33m.\u001b[0m\u001b[0moptions\u001b[0m\u001b[1;33m.\u001b[0m\u001b[0mget\u001b[0m\u001b[1;33m(\u001b[0m\u001b[1;34m\"iterate_rules\"\u001b[0m\u001b[1;33m,\u001b[0m \u001b[1;32mFalse\u001b[0m\u001b[1;33m)\u001b[0m\u001b[1;33m\u001b[0m\u001b[1;33m\u001b[0m\u001b[0m\n\u001b[0;32m    233\u001b[0m         \u001b[1;32mif\u001b[0m \u001b[0mself\u001b[0m\u001b[1;33m.\u001b[0m\u001b[0moptions\u001b[0m\u001b[1;33m[\u001b[0m\u001b[1;34m'advanced'\u001b[0m\u001b[1;33m]\u001b[0m\u001b[1;33m:\u001b[0m\u001b[1;33m\u001b[0m\u001b[1;33m\u001b[0m\u001b[0m\n",
      "\u001b[1;32m~\\anaconda3\\lib\\site-packages\\pyshacl\\shapes_graph.py\u001b[0m in \u001b[0;36mshapes\u001b[1;34m(self)\u001b[0m\n\u001b[0;32m    162\u001b[0m         \"\"\"\n\u001b[0;32m    163\u001b[0m         \u001b[1;32mif\u001b[0m \u001b[0mlen\u001b[0m\u001b[1;33m(\u001b[0m\u001b[0mself\u001b[0m\u001b[1;33m.\u001b[0m\u001b[0m_node_shape_cache\u001b[0m\u001b[1;33m)\u001b[0m \u001b[1;33m<\u001b[0m \u001b[1;36m1\u001b[0m\u001b[1;33m:\u001b[0m\u001b[1;33m\u001b[0m\u001b[1;33m\u001b[0m\u001b[0m\n\u001b[1;32m--> 164\u001b[1;33m             \u001b[0mself\u001b[0m\u001b[1;33m.\u001b[0m\u001b[0m_build_node_shape_cache\u001b[0m\u001b[1;33m(\u001b[0m\u001b[1;33m)\u001b[0m\u001b[1;33m\u001b[0m\u001b[1;33m\u001b[0m\u001b[0m\n\u001b[0m\u001b[0;32m    165\u001b[0m         \u001b[1;32mreturn\u001b[0m \u001b[0mself\u001b[0m\u001b[1;33m.\u001b[0m\u001b[0m_node_shape_cache\u001b[0m\u001b[1;33m.\u001b[0m\u001b[0mvalues\u001b[0m\u001b[1;33m(\u001b[0m\u001b[1;33m)\u001b[0m\u001b[1;33m\u001b[0m\u001b[1;33m\u001b[0m\u001b[0m\n\u001b[0;32m    166\u001b[0m \u001b[1;33m\u001b[0m\u001b[0m\n",
      "\u001b[1;32m~\\anaconda3\\lib\\site-packages\\pyshacl\\shapes_graph.py\u001b[0m in \u001b[0;36m_build_node_shape_cache\u001b[1;34m(self)\u001b[0m\n\u001b[0;32m    206\u001b[0m             \u001b[1;32mif\u001b[0m \u001b[0mlen\u001b[0m\u001b[1;33m(\u001b[0m\u001b[0mpath_vals\u001b[0m\u001b[1;33m)\u001b[0m \u001b[1;33m<\u001b[0m \u001b[1;36m1\u001b[0m\u001b[1;33m:\u001b[0m\u001b[1;33m\u001b[0m\u001b[1;33m\u001b[0m\u001b[0m\n\u001b[0;32m    207\u001b[0m                 \u001b[1;31m# TODO:coverage: we don't have any tests for invalid shapes\u001b[0m\u001b[1;33m\u001b[0m\u001b[1;33m\u001b[0m\u001b[0m\n\u001b[1;32m--> 208\u001b[1;33m                 raise ShapeLoadError(\n\u001b[0m\u001b[0;32m    209\u001b[0m                     \u001b[1;34m\"A shape defined as a PropertyShape must be the subject of a 'sh:path' predicate.\"\u001b[0m\u001b[1;33m,\u001b[0m\u001b[1;33m\u001b[0m\u001b[1;33m\u001b[0m\u001b[0m\n\u001b[0;32m    210\u001b[0m                     \u001b[1;34m\"https://www.w3.org/TR/shacl/#property-shapes\"\u001b[0m\u001b[1;33m,\u001b[0m\u001b[1;33m\u001b[0m\u001b[1;33m\u001b[0m\u001b[0m\n",
      "\u001b[1;31mShapeLoadError\u001b[0m: A shape defined as a PropertyShape must be the subject of a 'sh:path' predicate.\nFor reference, see https://www.w3.org/TR/shacl/#property-shapes"
     ]
    }
   ],
   "source": [
    "r = validate(data_graph = data_graph,\n",
    "      shacl_graph=sg,\n",
    "      inference='rdfs',\n",
    "      abort_on_first=False,\n",
    "      allow_infos=False,\n",
    "      allow_warnings=False,\n",
    "      meta_shacl=False,\n",
    "      advanced=False,\n",
    "      js=False,\n",
    "      debug=False)"
   ]
  },
  {
   "cell_type": "markdown",
   "id": "9a468099-ea26-4134-8ab5-958321973aca",
   "metadata": {},
   "source": [
    "Print the results from the pyshacl validate function -- will print as a triple "
   ]
  },
  {
   "cell_type": "code",
   "execution_count": null,
   "id": "7182a83e-ad7f-4421-9348-208fc1173d59",
   "metadata": {},
   "outputs": [],
   "source": [
    "conforms, results_graph, results_text = r\n",
    "print(r)"
   ]
  },
  {
   "cell_type": "markdown",
   "id": "5a713f4d-634d-4403-a96a-d07094c45957",
   "metadata": {},
   "source": [
    "If your validation was false, you can see more information by running the cell below: "
   ]
  },
  {
   "cell_type": "code",
   "execution_count": null,
   "id": "c6d8a8ab-4346-4462-84d9-78d421b0d6ef",
   "metadata": {},
   "outputs": [],
   "source": [
    "print(results_graph.serialize(format = \"turtle\"))"
   ]
  }
 ],
 "metadata": {
  "kernelspec": {
   "display_name": "Python 3 (ipykernel)",
   "language": "python",
   "name": "python3"
  },
  "language_info": {
   "codemirror_mode": {
    "name": "ipython",
    "version": 3
   },
   "file_extension": ".py",
   "mimetype": "text/x-python",
   "name": "python",
   "nbconvert_exporter": "python",
   "pygments_lexer": "ipython3",
   "version": "3.9.7"
  }
 },
 "nbformat": 4,
 "nbformat_minor": 5
}
