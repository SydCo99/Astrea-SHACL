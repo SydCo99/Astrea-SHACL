{
 "cells": [
  {
   "cell_type": "code",
   "execution_count": 1,
   "id": "f2fbb13f-e9f2-4b49-8318-1d40a154661b",
   "metadata": {},
   "outputs": [],
   "source": [
    "from rdflib import Graph, URIRef, Literal, Namespace, RDF, RDFS, OWL, XSD\n"
   ]
  },
  {
   "cell_type": "code",
   "execution_count": 2,
   "id": "f9b5754b-4058-4248-be88-6fc398f12c49",
   "metadata": {},
   "outputs": [],
   "source": [
    "g = Graph()"
   ]
  },
  {
   "cell_type": "code",
   "execution_count": 3,
   "id": "fda8303b-5e74-4634-ace4-ce3b032eb1b4",
   "metadata": {},
   "outputs": [],
   "source": [
    "ns1 = Namespace('http://example.com/')\n",
    "rdf = Namespace('http://www.w3.org/1999/02/22-rdf-syntax-ns#')\n",
    "obo = Namespace('http://purl.obolibrary.org/obo/')\n",
    "\n"
   ]
  },
  {
   "cell_type": "code",
   "execution_count": 4,
   "id": "0ff63ccb-764a-40b9-8d68-8e7c0be9c8d5",
   "metadata": {},
   "outputs": [],
   "source": [
    "g.bind('ns1', ns1)\n",
    "g.bind('obo', obo)\n"
   ]
  },
  {
   "cell_type": "code",
   "execution_count": 5,
   "id": "77b9fbed-62ad-46d2-b527-e2a6c75fd379",
   "metadata": {},
   "outputs": [
    {
     "data": {
      "text/plain": [
       "<Graph identifier=N80821430a43448b0a1873f75b883e6a8 (<class 'rdflib.graph.Graph'>)>"
      ]
     },
     "execution_count": 5,
     "metadata": {},
     "output_type": "execute_result"
    }
   ],
   "source": [
    "g.add((ns1.DEMO_000045, rdf.type, OWL.Class))\n"
   ]
  },
  {
   "cell_type": "code",
   "execution_count": 6,
   "id": "3a861496-db86-4395-85f5-51d0fc018883",
   "metadata": {},
   "outputs": [
    {
     "data": {
      "text/plain": [
       "<Graph identifier=N80821430a43448b0a1873f75b883e6a8 (<class 'rdflib.graph.Graph'>)>"
      ]
     },
     "execution_count": 6,
     "metadata": {},
     "output_type": "execute_result"
    }
   ],
   "source": [
    "g.add((ns1.DEMO_000045, rdf.type, obo.BFO_0000040))\n",
    "g.add((ns1.DEMO_000045, rdf.type, obo.BFO_0000015))"
   ]
  },
  {
   "cell_type": "code",
   "execution_count": 7,
   "id": "281dc61e-f97a-4342-924d-2009d3ce9ea6",
   "metadata": {},
   "outputs": [
    {
     "data": {
      "text/plain": [
       "<Graph identifier=N80821430a43448b0a1873f75b883e6a8 (<class 'rdflib.graph.Graph'>)>"
      ]
     },
     "execution_count": 7,
     "metadata": {},
     "output_type": "execute_result"
    }
   ],
   "source": [
    "g.serialize(destination='example.ttl', format = 'turtle')"
   ]
  }
 ],
 "metadata": {
  "kernelspec": {
   "display_name": "Python 3 (ipykernel)",
   "language": "python",
   "name": "python3"
  },
  "language_info": {
   "codemirror_mode": {
    "name": "ipython",
    "version": 3
   },
   "file_extension": ".py",
   "mimetype": "text/x-python",
   "name": "python",
   "nbconvert_exporter": "python",
   "pygments_lexer": "ipython3",
   "version": "3.9.7"
  }
 },
 "nbformat": 4,
 "nbformat_minor": 5
}
