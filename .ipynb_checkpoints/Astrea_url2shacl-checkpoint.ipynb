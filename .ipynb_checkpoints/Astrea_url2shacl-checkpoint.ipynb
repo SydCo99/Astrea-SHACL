{
 "cells": [
  {
   "cell_type": "markdown",
   "id": "8670f730-3aad-4f49-b810-9d19347f4700",
   "metadata": {},
   "source": [
    "Import dependencies"
   ]
  },
  {
   "cell_type": "code",
   "execution_count": 1,
   "id": "2b07e990-f558-4d9d-8de3-6e2c0bed5656",
   "metadata": {},
   "outputs": [],
   "source": [
    "import requests\n",
    "from pyshacl import validate\n",
    "from rdflib import Graph, Literal, RDF, URIRef"
   ]
  },
  {
   "cell_type": "markdown",
   "id": "56ab43e6-c291-4cdc-a660-016253793998",
   "metadata": {},
   "source": [
    "Specifiy the url of your ontology of interest "
   ]
  },
  {
   "cell_type": "code",
   "execution_count": 2,
   "id": "b93d7089-650d-4e68-a5a0-a9084225cf6a",
   "metadata": {},
   "outputs": [],
   "source": [
    "ont_url = \"http://purl.obolibrary.org/obo/bfo.owl\""
   ]
  },
  {
   "cell_type": "code",
   "execution_count": 3,
   "id": "cc3807d8-1463-4417-9860-8ed8cec5e570",
   "metadata": {},
   "outputs": [],
   "source": [
    "ontologyURLs = {\"accept\": \"text/rdf+turtle\", \"Content-Type\": \"application/json;charset=utf-8\",\n",
    "  \"ontologies\":\n",
    "    [ont_url],\n",
    "}"
   ]
  },
  {
   "cell_type": "markdown",
   "id": "b23036b5-f1e4-4f05-8803-1e5839929adf",
   "metadata": {},
   "source": [
    "Check to make sure syntax of the query is correct"
   ]
  },
  {
   "cell_type": "code",
   "execution_count": 4,
   "id": "924e1273-366e-45a1-9b81-72980d946f48",
   "metadata": {},
   "outputs": [
    {
     "data": {
      "text/plain": [
       "{'accept': 'text/rdf+turtle',\n",
       " 'Content-Type': 'application/json;charset=utf-8',\n",
       " 'ontologies': ['http://purl.obolibrary.org/obo/bfo.owl']}"
      ]
     },
     "execution_count": 4,
     "metadata": {},
     "output_type": "execute_result"
    }
   ],
   "source": [
    "ontologyURLs"
   ]
  },
  {
   "cell_type": "markdown",
   "id": "e14873dd-561a-4cb1-970a-39ef4f8f9b76",
   "metadata": {},
   "source": [
    "Identify the URL for our endpoint"
   ]
  },
  {
   "cell_type": "code",
   "execution_count": 5,
   "id": "dbded599-3b1e-40b8-ae20-0c4c38801af8",
   "metadata": {},
   "outputs": [],
   "source": [
    "url = ('https://astrea.linkeddata.es/api/shacl/url')"
   ]
  },
  {
   "cell_type": "markdown",
   "id": "83cc3126-6ff5-42d5-8af1-7ba93696aecc",
   "metadata": {},
   "source": [
    "Send in our post request"
   ]
  },
  {
   "cell_type": "code",
   "execution_count": 6,
   "id": "1cd5527f-804e-4f24-b2c6-6897d43eefbf",
   "metadata": {},
   "outputs": [],
   "source": [
    "response = requests.post(url = url, json = ontologyURLs)"
   ]
  },
  {
   "cell_type": "markdown",
   "id": "26d17cf3-e313-4fdd-a5ea-98f6b6d8ef5b",
   "metadata": {},
   "source": [
    "Save the text of the response to a variable"
   ]
  },
  {
   "cell_type": "code",
   "execution_count": 7,
   "id": "087674ee-98f4-48a1-8cd9-027b84547bf6",
   "metadata": {
    "scrolled": true,
    "tags": []
   },
   "outputs": [],
   "source": [
    "x = response.text"
   ]
  },
  {
   "cell_type": "markdown",
   "id": "48d2c27b-82e1-40df-b3d1-c139cd29cb58",
   "metadata": {},
   "source": [
    "Write the text of the response to a new file -- edit the file name (currently, 'shacl.ttl') if you'd like it to be called something else "
   ]
  },
  {
   "cell_type": "code",
   "execution_count": 8,
   "id": "f4120354-0327-43a3-af1d-abaf4fd2a083",
   "metadata": {},
   "outputs": [],
   "source": [
    "with open('shacl.ttl', 'w') as f:\n",
    "    f.write(x)"
   ]
  },
  {
   "cell_type": "markdown",
   "id": "40030331-83f9-4f0d-826f-dea60ac53d94",
   "metadata": {},
   "source": [
    "Now we will validate - start by initializing an rdflib graph object"
   ]
  },
  {
   "cell_type": "code",
   "execution_count": 9,
   "id": "4f5355db-9e5b-45d2-b278-9f8dc1440e6c",
   "metadata": {},
   "outputs": [],
   "source": [
    "g = Graph()"
   ]
  },
  {
   "cell_type": "markdown",
   "id": "88a95f9f-f278-4d64-801f-a7d683153717",
   "metadata": {},
   "source": [
    "We will put the original ontology into the graph object (stored as data_graph variable) by using the rdflib parse function "
   ]
  },
  {
   "cell_type": "code",
   "execution_count": 10,
   "id": "e0710336-4f82-439b-8f3f-f7e910079999",
   "metadata": {},
   "outputs": [],
   "source": [
    "data_graph = g.parse(ont_url, format='xml')"
   ]
  },
  {
   "cell_type": "markdown",
   "id": "45a41a01-9a56-4c2a-adda-3af0cd95c27f",
   "metadata": {},
   "source": [
    "Our newly generated shacl file will be assigned to the \"sg\" variable -- if you called the file something else, change the name in the quotes below to match your shacl file name"
   ]
  },
  {
   "cell_type": "code",
   "execution_count": 11,
   "id": "4d6f2e0a-2573-4c0c-91d7-0c91045ceb33",
   "metadata": {},
   "outputs": [],
   "source": [
    "sg = \"shacl.ttl\""
   ]
  },
  {
   "cell_type": "markdown",
   "id": "beab2185-50d7-4ac7-9882-c60b3aa3dbe4",
   "metadata": {},
   "source": [
    "Run the pyshacl validate function"
   ]
  },
  {
   "cell_type": "code",
   "execution_count": 12,
   "id": "8566dbdb-cdf0-4728-abb4-ccdfa52d6a29",
   "metadata": {},
   "outputs": [],
   "source": [
    "r = validate(data_graph,\n",
    "      shacl_graph=sg,\n",
    "      inference='rdfs',\n",
    "      abort_on_first=False,\n",
    "      allow_infos=False,\n",
    "      allow_warnings=False,\n",
    "      meta_shacl=False,\n",
    "      advanced=False,\n",
    "      js=False,\n",
    "      debug=False)"
   ]
  },
  {
   "cell_type": "markdown",
   "id": "9a468099-ea26-4134-8ab5-958321973aca",
   "metadata": {},
   "source": [
    "Print the results from the pyshacl validate function -- will print as a triple "
   ]
  },
  {
   "cell_type": "code",
   "execution_count": 13,
   "id": "7182a83e-ad7f-4421-9348-208fc1173d59",
   "metadata": {},
   "outputs": [
    {
     "name": "stdout",
     "output_type": "stream",
     "text": [
      "(True, <Graph identifier=N35e20102654f487da31d947d340ddc45 (<class 'rdflib.graph.Graph'>)>, 'Validation Report\\nConforms: True\\n')\n"
     ]
    }
   ],
   "source": [
    "conforms, results_graph, results_text = r\n",
    "print(r)"
   ]
  },
  {
   "cell_type": "markdown",
   "id": "5a713f4d-634d-4403-a96a-d07094c45957",
   "metadata": {},
   "source": [
    "If your validation was false, you can see more information by running the cell below: "
   ]
  },
  {
   "cell_type": "code",
   "execution_count": 14,
   "id": "c6d8a8ab-4346-4462-84d9-78d421b0d6ef",
   "metadata": {},
   "outputs": [
    {
     "name": "stdout",
     "output_type": "stream",
     "text": [
      "@prefix sh: <http://www.w3.org/ns/shacl#> .\n",
      "@prefix xsd: <http://www.w3.org/2001/XMLSchema#> .\n",
      "\n",
      "[] a sh:ValidationReport ;\n",
      "    sh:conforms true .\n",
      "\n",
      "\n"
     ]
    }
   ],
   "source": [
    "print(results_graph.serialize(format = \"turtle\"))"
   ]
  }
 ],
 "metadata": {
  "kernelspec": {
   "display_name": "Python 3 (ipykernel)",
   "language": "python",
   "name": "python3"
  },
  "language_info": {
   "codemirror_mode": {
    "name": "ipython",
    "version": 3
   },
   "file_extension": ".py",
   "mimetype": "text/x-python",
   "name": "python",
   "nbconvert_exporter": "python",
   "pygments_lexer": "ipython3",
   "version": "3.9.7"
  }
 },
 "nbformat": 4,
 "nbformat_minor": 5
}
