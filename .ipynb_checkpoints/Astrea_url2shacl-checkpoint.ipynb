{
 "cells": [
  {
   "cell_type": "markdown",
   "id": "8670f730-3aad-4f49-b810-9d19347f4700",
   "metadata": {},
   "source": [
    "Import dependencies"
   ]
  },
  {
   "cell_type": "code",
   "execution_count": 60,
   "id": "2b07e990-f558-4d9d-8de3-6e2c0bed5656",
   "metadata": {},
   "outputs": [],
   "source": [
    "import requests"
   ]
  },
  {
   "cell_type": "markdown",
   "id": "56ab43e6-c291-4cdc-a660-016253793998",
   "metadata": {},
   "source": [
    "Specifiy the url of your ontology of interest -- if multiple ontologies, make a list "
   ]
  },
  {
   "cell_type": "code",
   "execution_count": null,
   "id": "b93d7089-650d-4e68-a5a0-a9084225cf6a",
   "metadata": {},
   "outputs": [],
   "source": [
    "url = \"http://purl.obolibrary.org/obo/ido.owl\""
   ]
  },
  {
   "cell_type": "code",
   "execution_count": 76,
   "id": "cc3807d8-1463-4417-9860-8ed8cec5e570",
   "metadata": {},
   "outputs": [],
   "source": [
    "ontologyURLs = {\"accept\": \"text/rdf+turtle\", \"Content-Type\": \"application/json;charset=utf-8\",\n",
    "  \"ontologies\": [\n",
    "    url\n",
    "  ],\n",
    "}"
   ]
  },
  {
   "cell_type": "markdown",
   "id": "b23036b5-f1e4-4f05-8803-1e5839929adf",
   "metadata": {},
   "source": [
    "Check to make sure syntax of the query is correct"
   ]
  },
  {
   "cell_type": "code",
   "execution_count": 78,
   "id": "924e1273-366e-45a1-9b81-72980d946f48",
   "metadata": {},
   "outputs": [
    {
     "data": {
      "text/plain": [
       "{'accept': 'text/rdf+turtle',\n",
       " 'Content-Type': 'application/json;charset=utf-8',\n",
       " 'ontologies': ['https://astrea.linkeddata.es/api/shacl/url']}"
      ]
     },
     "execution_count": 78,
     "metadata": {},
     "output_type": "execute_result"
    }
   ],
   "source": [
    "ontologyURLs"
   ]
  },
  {
   "cell_type": "markdown",
   "id": "e14873dd-561a-4cb1-970a-39ef4f8f9b76",
   "metadata": {},
   "source": [
    "Identify the URL for our endpoint"
   ]
  },
  {
   "cell_type": "code",
   "execution_count": 79,
   "id": "dbded599-3b1e-40b8-ae20-0c4c38801af8",
   "metadata": {},
   "outputs": [],
   "source": [
    "url = ('https://astrea.linkeddata.es/api/shacl/url')"
   ]
  },
  {
   "cell_type": "markdown",
   "id": "83cc3126-6ff5-42d5-8af1-7ba93696aecc",
   "metadata": {},
   "source": [
    "Send in our post request"
   ]
  },
  {
   "cell_type": "code",
   "execution_count": 80,
   "id": "1cd5527f-804e-4f24-b2c6-6897d43eefbf",
   "metadata": {},
   "outputs": [],
   "source": [
    "response = requests.post(url = url, json = ontologyURLs)"
   ]
  },
  {
   "cell_type": "markdown",
   "id": "26d17cf3-e313-4fdd-a5ea-98f6b6d8ef5b",
   "metadata": {},
   "source": [
    "Save the text of the response to a variable"
   ]
  },
  {
   "cell_type": "code",
   "execution_count": 81,
   "id": "087674ee-98f4-48a1-8cd9-027b84547bf6",
   "metadata": {
    "scrolled": true,
    "tags": []
   },
   "outputs": [],
   "source": [
    "x = response.text"
   ]
  },
  {
   "cell_type": "markdown",
   "id": "48d2c27b-82e1-40df-b3d1-c139cd29cb58",
   "metadata": {},
   "source": [
    "Write the text of the response to a new file -- edit the file name (currently, 'shacl.ttl') if you'd like it to be called something else "
   ]
  },
  {
   "cell_type": "code",
   "execution_count": 82,
   "id": "f4120354-0327-43a3-af1d-abaf4fd2a083",
   "metadata": {},
   "outputs": [],
   "source": [
    "with open('shacl.ttl', 'w') as f:\n",
    "    f.write(x)"
   ]
  }
 ],
 "metadata": {
  "kernelspec": {
   "display_name": "Python 3 (ipykernel)",
   "language": "python",
   "name": "python3"
  },
  "language_info": {
   "codemirror_mode": {
    "name": "ipython",
    "version": 3
   },
   "file_extension": ".py",
   "mimetype": "text/x-python",
   "name": "python",
   "nbconvert_exporter": "python",
   "pygments_lexer": "ipython3",
   "version": "3.9.7"
  }
 },
 "nbformat": 4,
 "nbformat_minor": 5
}
